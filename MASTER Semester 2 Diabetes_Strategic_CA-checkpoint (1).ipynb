{
 "cells": [
  {
   "cell_type": "markdown",
   "id": "10f8c854",
   "metadata": {},
   "source": [
    "# Semester 2 Strategic Thinking CA"
   ]
  },
  {
   "cell_type": "raw",
   "id": "d0f51ba2",
   "metadata": {},
   "source": [
    "Uploaded Python libraries\n",
    "Uploaded the data and read it in python\n",
    "Did Basic Data exploration idenifying patterns in data\n",
    "Rejected useless columns (useless for ML)\n",
    "Identified the Target variables - 3 different potential comparisons to run\n",
    "Looked at the distribution of Target variables\n",
    "Carried out Visual Exploratory Data Analysis for data distribution (Histogram and Barcharts)\n",
    "Selected features based on data distribution.\n",
    "Looked for outliers and missing values \n",
    "Carried out Visual correlation analysis\n",
    "Applied statistical correlation analysis (for Feature Selection)\n",
    "Converted data to numeric using different types of encoding\n",
    "Reduced dimensionality via PCA and LDA \n",
    "Tried multiple Classification algorithms\n",
    "Sampling and K-fold cross validation\n",
    "Selecting the best Model"
   ]
  },
  {
   "cell_type": "markdown",
   "id": "d6fe1846",
   "metadata": {},
   "source": [
    "### Import Libraries"
   ]
  },
  {
   "cell_type": "code",
   "execution_count": 1,
   "id": "9909efdc",
   "metadata": {},
   "outputs": [],
   "source": [
    "import warnings\n",
    "warnings.filterwarnings('ignore')\n",
    "\n",
    "import numpy as np\n",
    "import pandas as pd\n",
    "np.set_printoptions(precision=4)\n",
    "import matplotlib.pyplot as plt\n",
    "import seaborn as sns\n",
    "sns.set()\n",
    "import missingno as msno\n",
    "from scipy.stats import f_oneway\n",
    "from pandas.plotting import scatter_matrix\n",
    "\n",
    "from sklearn.linear_model import LinearRegression\n",
    "from sklearn.model_selection import train_test_split, cross_val_score\n",
    "from sklearn import metrics\n",
    "from sklearn.model_selection import train_test_split\n",
    "from sklearn.ensemble import RandomForestClassifier\n",
    "from sklearn.metrics import accuracy_score\n",
    "from sklearn.preprocessing import StandardScaler\n",
    "from sklearn.discriminant_analysis import LinearDiscriminantAnalysis\n",
    "from sklearn.preprocessing import OneHotEncoder\n",
    "\n",
    "from sklearn.tree import DecisionTreeClassifier\n",
    "from sklearn.preprocessing import LabelEncoder\n",
    "from sklearn.preprocessing import StandardScaler, MinMaxScaler\n",
    "from sklearn.model_selection import train_test_split\n",
    "\n",
    "from sklearn.linear_model import LogisticRegression\n",
    "from sklearn.tree import DecisionTreeClassifier\n",
    "from sklearn.ensemble import RandomForestClassifier\n",
    "from sklearn.ensemble import AdaBoostClassifier\n",
    "from sklearn.neighbors import KNeighborsClassifier\n",
    "from sklearn import svm\n",
    "from sklearn.naive_bayes import GaussianNB, MultinomialNB\n",
    "\n",
    "from sklearn import metrics\n",
    "from sklearn.metrics import confusion_matrix, ConfusionMatrixDisplay\n",
    "from sklearn.metrics import make_scorer\n",
    "from sklearn.model_selection import cross_val_score"
   ]
  },
  {
   "cell_type": "markdown",
   "id": "46318a46",
   "metadata": {},
   "source": [
    "### Import Dataset "
   ]
  },
  {
   "cell_type": "code",
   "execution_count": 2,
   "id": "33e731bd",
   "metadata": {
    "scrolled": true
   },
   "outputs": [
    {
     "data": {
      "text/html": [
       "<div>\n",
       "<style scoped>\n",
       "    .dataframe tbody tr th:only-of-type {\n",
       "        vertical-align: middle;\n",
       "    }\n",
       "\n",
       "    .dataframe tbody tr th {\n",
       "        vertical-align: top;\n",
       "    }\n",
       "\n",
       "    .dataframe thead th {\n",
       "        text-align: right;\n",
       "    }\n",
       "</style>\n",
       "<table border=\"1\" class=\"dataframe\">\n",
       "  <thead>\n",
       "    <tr style=\"text-align: right;\">\n",
       "      <th></th>\n",
       "      <th>ID</th>\n",
       "      <th>No_Pation</th>\n",
       "      <th>Gender</th>\n",
       "      <th>AGE</th>\n",
       "      <th>Urea</th>\n",
       "      <th>Cr</th>\n",
       "      <th>HbA1c</th>\n",
       "      <th>Chol</th>\n",
       "      <th>TG</th>\n",
       "      <th>HDL</th>\n",
       "      <th>LDL</th>\n",
       "      <th>VLDL</th>\n",
       "      <th>BMI</th>\n",
       "      <th>CLASS</th>\n",
       "    </tr>\n",
       "  </thead>\n",
       "  <tbody>\n",
       "    <tr>\n",
       "      <th>0</th>\n",
       "      <td>502</td>\n",
       "      <td>17975</td>\n",
       "      <td>F</td>\n",
       "      <td>50</td>\n",
       "      <td>4.7</td>\n",
       "      <td>46</td>\n",
       "      <td>4.9</td>\n",
       "      <td>4.2</td>\n",
       "      <td>0.9</td>\n",
       "      <td>2.4</td>\n",
       "      <td>1.4</td>\n",
       "      <td>0.5</td>\n",
       "      <td>24.0</td>\n",
       "      <td>N</td>\n",
       "    </tr>\n",
       "    <tr>\n",
       "      <th>1</th>\n",
       "      <td>735</td>\n",
       "      <td>34221</td>\n",
       "      <td>M</td>\n",
       "      <td>26</td>\n",
       "      <td>4.5</td>\n",
       "      <td>62</td>\n",
       "      <td>4.9</td>\n",
       "      <td>3.7</td>\n",
       "      <td>1.4</td>\n",
       "      <td>1.1</td>\n",
       "      <td>2.1</td>\n",
       "      <td>0.6</td>\n",
       "      <td>23.0</td>\n",
       "      <td>N</td>\n",
       "    </tr>\n",
       "    <tr>\n",
       "      <th>2</th>\n",
       "      <td>420</td>\n",
       "      <td>47975</td>\n",
       "      <td>F</td>\n",
       "      <td>50</td>\n",
       "      <td>4.7</td>\n",
       "      <td>46</td>\n",
       "      <td>4.9</td>\n",
       "      <td>4.2</td>\n",
       "      <td>0.9</td>\n",
       "      <td>2.4</td>\n",
       "      <td>1.4</td>\n",
       "      <td>0.5</td>\n",
       "      <td>24.0</td>\n",
       "      <td>N</td>\n",
       "    </tr>\n",
       "    <tr>\n",
       "      <th>3</th>\n",
       "      <td>680</td>\n",
       "      <td>87656</td>\n",
       "      <td>F</td>\n",
       "      <td>50</td>\n",
       "      <td>4.7</td>\n",
       "      <td>46</td>\n",
       "      <td>4.9</td>\n",
       "      <td>4.2</td>\n",
       "      <td>0.9</td>\n",
       "      <td>2.4</td>\n",
       "      <td>1.4</td>\n",
       "      <td>0.5</td>\n",
       "      <td>24.0</td>\n",
       "      <td>N</td>\n",
       "    </tr>\n",
       "    <tr>\n",
       "      <th>4</th>\n",
       "      <td>504</td>\n",
       "      <td>34223</td>\n",
       "      <td>M</td>\n",
       "      <td>33</td>\n",
       "      <td>7.1</td>\n",
       "      <td>46</td>\n",
       "      <td>4.9</td>\n",
       "      <td>4.9</td>\n",
       "      <td>1.0</td>\n",
       "      <td>0.8</td>\n",
       "      <td>2.0</td>\n",
       "      <td>0.4</td>\n",
       "      <td>21.0</td>\n",
       "      <td>N</td>\n",
       "    </tr>\n",
       "  </tbody>\n",
       "</table>\n",
       "</div>"
      ],
      "text/plain": [
       "    ID  No_Pation Gender  AGE  Urea  Cr  HbA1c  Chol   TG  HDL  LDL  VLDL  \\\n",
       "0  502      17975      F   50   4.7  46    4.9   4.2  0.9  2.4  1.4   0.5   \n",
       "1  735      34221      M   26   4.5  62    4.9   3.7  1.4  1.1  2.1   0.6   \n",
       "2  420      47975      F   50   4.7  46    4.9   4.2  0.9  2.4  1.4   0.5   \n",
       "3  680      87656      F   50   4.7  46    4.9   4.2  0.9  2.4  1.4   0.5   \n",
       "4  504      34223      M   33   7.1  46    4.9   4.9  1.0  0.8  2.0   0.4   \n",
       "\n",
       "    BMI CLASS  \n",
       "0  24.0     N  \n",
       "1  23.0     N  \n",
       "2  24.0     N  \n",
       "3  24.0     N  \n",
       "4  21.0     N  "
      ]
     },
     "execution_count": 2,
     "metadata": {},
     "output_type": "execute_result"
    }
   ],
   "source": [
    "df = pd.read_csv(\"Dataset of Diabetes .csv\")\n",
    "\n",
    "df.head()"
   ]
  },
  {
   "cell_type": "code",
   "execution_count": 3,
   "id": "c0b0123c",
   "metadata": {
    "scrolled": true
   },
   "outputs": [
    {
     "name": "stdout",
     "output_type": "stream",
     "text": [
      "<class 'pandas.core.frame.DataFrame'>\n",
      "RangeIndex: 1000 entries, 0 to 999\n",
      "Data columns (total 14 columns):\n",
      " #   Column     Non-Null Count  Dtype  \n",
      "---  ------     --------------  -----  \n",
      " 0   ID         1000 non-null   int64  \n",
      " 1   No_Pation  1000 non-null   int64  \n",
      " 2   Gender     1000 non-null   object \n",
      " 3   AGE        1000 non-null   int64  \n",
      " 4   Urea       1000 non-null   float64\n",
      " 5   Cr         1000 non-null   int64  \n",
      " 6   HbA1c      1000 non-null   float64\n",
      " 7   Chol       1000 non-null   float64\n",
      " 8   TG         1000 non-null   float64\n",
      " 9   HDL        1000 non-null   float64\n",
      " 10  LDL        1000 non-null   float64\n",
      " 11  VLDL       1000 non-null   float64\n",
      " 12  BMI        1000 non-null   float64\n",
      " 13  CLASS      1000 non-null   object \n",
      "dtypes: float64(8), int64(4), object(2)\n",
      "memory usage: 109.5+ KB\n"
     ]
    }
   ],
   "source": [
    "df.info()"
   ]
  },
  {
   "cell_type": "code",
   "execution_count": 4,
   "id": "26be64a3",
   "metadata": {
    "scrolled": true
   },
   "outputs": [
    {
     "data": {
      "text/plain": [
       "(1000, 14)"
      ]
     },
     "execution_count": 4,
     "metadata": {},
     "output_type": "execute_result"
    }
   ],
   "source": [
    "df.shape"
   ]
  },
  {
   "cell_type": "code",
   "execution_count": 5,
   "id": "18793fe2",
   "metadata": {},
   "outputs": [
    {
     "name": "stdout",
     "output_type": "stream",
     "text": [
      "Index(['ID', 'No_Pation', 'Gender', 'AGE', 'Urea', 'Cr', 'HbA1c', 'Chol', 'TG',\n",
      "       'HDL', 'LDL', 'VLDL', 'BMI', 'CLASS'],\n",
      "      dtype='object')\n"
     ]
    }
   ],
   "source": [
    "# Print the column names\n",
    "print(df.columns)"
   ]
  },
  {
   "cell_type": "code",
   "execution_count": 6,
   "id": "edde148e",
   "metadata": {},
   "outputs": [
    {
     "data": {
      "text/plain": [
       "False"
      ]
     },
     "execution_count": 6,
     "metadata": {},
     "output_type": "execute_result"
    }
   ],
   "source": [
    "df.isnull().values.any()"
   ]
  },
  {
   "cell_type": "code",
   "execution_count": 7,
   "id": "f6a8fbc9",
   "metadata": {},
   "outputs": [
    {
     "name": "stdout",
     "output_type": "stream",
     "text": [
      "Total missing values in the DataFrame: 0\n"
     ]
    }
   ],
   "source": [
    "total_missing = df.isnull().sum().sum()\n",
    "print(\"Total missing values in the DataFrame:\", total_missing)"
   ]
  },
  {
   "cell_type": "code",
   "execution_count": 8,
   "id": "125bcdce",
   "metadata": {},
   "outputs": [
    {
     "name": "stdout",
     "output_type": "stream",
     "text": [
      "There are duplicates in column ID.\n"
     ]
    }
   ],
   "source": [
    "if df['ID'].duplicated().any():\n",
    "    print(\"There are duplicates in column ID.\")"
   ]
  },
  {
   "cell_type": "code",
   "execution_count": 9,
   "id": "2f60382e",
   "metadata": {},
   "outputs": [
    {
     "name": "stdout",
     "output_type": "stream",
     "text": [
      "No duplicates found.\n"
     ]
    }
   ],
   "source": [
    "if df.duplicated().any():\n",
    "    print(\"There are duplicates.\")\n",
    "else:\n",
    "    print(\"No duplicates found.\")"
   ]
  },
  {
   "cell_type": "markdown",
   "id": "7e3bf1c3",
   "metadata": {},
   "source": [
    "### Initial data exploration led to us dropping two values - ID and No_Pation as unique values, not useful for ML\n"
   ]
  },
  {
   "cell_type": "code",
   "execution_count": 10,
   "id": "4c7d38b4",
   "metadata": {},
   "outputs": [],
   "source": [
    "to_drop = ['ID',\n",
    "           'No_Pation']\n",
    "\n",
    "df.drop(to_drop, inplace=True, axis=1)"
   ]
  },
  {
   "cell_type": "code",
   "execution_count": 11,
   "id": "b460a147",
   "metadata": {},
   "outputs": [
    {
     "name": "stdout",
     "output_type": "stream",
     "text": [
      "Index(['Gender', 'AGE', 'Urea', 'Cr', 'HbA1c', 'Chol', 'TG', 'HDL', 'LDL',\n",
      "       'VLDL', 'BMI', 'CLASS'],\n",
      "      dtype='object')\n"
     ]
    }
   ],
   "source": [
    "# Print the column names\n",
    "print(df.columns)"
   ]
  },
  {
   "cell_type": "markdown",
   "id": "1b4dddd9",
   "metadata": {},
   "source": [
    "### Visualise the Dataset "
   ]
  },
  {
   "cell_type": "code",
   "execution_count": 12,
   "id": "e3c75340",
   "metadata": {},
   "outputs": [
    {
     "data": {
      "text/html": [
       "<div>\n",
       "<style scoped>\n",
       "    .dataframe tbody tr th:only-of-type {\n",
       "        vertical-align: middle;\n",
       "    }\n",
       "\n",
       "    .dataframe tbody tr th {\n",
       "        vertical-align: top;\n",
       "    }\n",
       "\n",
       "    .dataframe thead th {\n",
       "        text-align: right;\n",
       "    }\n",
       "</style>\n",
       "<table border=\"1\" class=\"dataframe\">\n",
       "  <thead>\n",
       "    <tr style=\"text-align: right;\">\n",
       "      <th></th>\n",
       "      <th>Gender</th>\n",
       "      <th>AGE</th>\n",
       "      <th>Urea</th>\n",
       "      <th>Cr</th>\n",
       "      <th>HbA1c</th>\n",
       "      <th>Chol</th>\n",
       "      <th>TG</th>\n",
       "      <th>HDL</th>\n",
       "      <th>LDL</th>\n",
       "      <th>VLDL</th>\n",
       "      <th>BMI</th>\n",
       "      <th>CLASS</th>\n",
       "    </tr>\n",
       "  </thead>\n",
       "  <tbody>\n",
       "    <tr>\n",
       "      <th>0</th>\n",
       "      <td>F</td>\n",
       "      <td>50</td>\n",
       "      <td>4.7</td>\n",
       "      <td>46</td>\n",
       "      <td>4.9</td>\n",
       "      <td>4.2</td>\n",
       "      <td>0.9</td>\n",
       "      <td>2.4</td>\n",
       "      <td>1.4</td>\n",
       "      <td>0.5</td>\n",
       "      <td>24.0</td>\n",
       "      <td>N</td>\n",
       "    </tr>\n",
       "    <tr>\n",
       "      <th>1</th>\n",
       "      <td>M</td>\n",
       "      <td>26</td>\n",
       "      <td>4.5</td>\n",
       "      <td>62</td>\n",
       "      <td>4.9</td>\n",
       "      <td>3.7</td>\n",
       "      <td>1.4</td>\n",
       "      <td>1.1</td>\n",
       "      <td>2.1</td>\n",
       "      <td>0.6</td>\n",
       "      <td>23.0</td>\n",
       "      <td>N</td>\n",
       "    </tr>\n",
       "    <tr>\n",
       "      <th>2</th>\n",
       "      <td>F</td>\n",
       "      <td>50</td>\n",
       "      <td>4.7</td>\n",
       "      <td>46</td>\n",
       "      <td>4.9</td>\n",
       "      <td>4.2</td>\n",
       "      <td>0.9</td>\n",
       "      <td>2.4</td>\n",
       "      <td>1.4</td>\n",
       "      <td>0.5</td>\n",
       "      <td>24.0</td>\n",
       "      <td>N</td>\n",
       "    </tr>\n",
       "    <tr>\n",
       "      <th>3</th>\n",
       "      <td>F</td>\n",
       "      <td>50</td>\n",
       "      <td>4.7</td>\n",
       "      <td>46</td>\n",
       "      <td>4.9</td>\n",
       "      <td>4.2</td>\n",
       "      <td>0.9</td>\n",
       "      <td>2.4</td>\n",
       "      <td>1.4</td>\n",
       "      <td>0.5</td>\n",
       "      <td>24.0</td>\n",
       "      <td>N</td>\n",
       "    </tr>\n",
       "    <tr>\n",
       "      <th>4</th>\n",
       "      <td>M</td>\n",
       "      <td>33</td>\n",
       "      <td>7.1</td>\n",
       "      <td>46</td>\n",
       "      <td>4.9</td>\n",
       "      <td>4.9</td>\n",
       "      <td>1.0</td>\n",
       "      <td>0.8</td>\n",
       "      <td>2.0</td>\n",
       "      <td>0.4</td>\n",
       "      <td>21.0</td>\n",
       "      <td>N</td>\n",
       "    </tr>\n",
       "  </tbody>\n",
       "</table>\n",
       "</div>"
      ],
      "text/plain": [
       "  Gender  AGE  Urea  Cr  HbA1c  Chol   TG  HDL  LDL  VLDL   BMI CLASS\n",
       "0      F   50   4.7  46    4.9   4.2  0.9  2.4  1.4   0.5  24.0     N\n",
       "1      M   26   4.5  62    4.9   3.7  1.4  1.1  2.1   0.6  23.0     N\n",
       "2      F   50   4.7  46    4.9   4.2  0.9  2.4  1.4   0.5  24.0     N\n",
       "3      F   50   4.7  46    4.9   4.2  0.9  2.4  1.4   0.5  24.0     N\n",
       "4      M   33   7.1  46    4.9   4.9  1.0  0.8  2.0   0.4  21.0     N"
      ]
     },
     "execution_count": 12,
     "metadata": {},
     "output_type": "execute_result"
    }
   ],
   "source": [
    "df.head()"
   ]
  },
  {
   "cell_type": "code",
   "execution_count": 13,
   "id": "0c49b5ff",
   "metadata": {},
   "outputs": [
    {
     "data": {
      "image/png": "[encoded data removed]",
      "text/plain": [
       "<Figure size 432x288 with 1 Axes>"
      ]
     },
     "metadata": {},
     "output_type": "display_data"
    },
    {
     "data": {
      "image/png": "[encoded data removed]",
      "text/plain": [
       "<Figure size 432x288 with 1 Axes>"
      ]
     },
     "metadata": {},
     "output_type": "display_data"
    },
    {
     "data": {
      "image/png": "[encoded data removed]",
      "text/plain": [
       "<Figure size 432x288 with 1 Axes>"
      ]
     },
     "metadata": {},
     "output_type": "display_data"
    },
    {
     "data": {
      "image/png": "[encoded data removed]",
      "text/plain": [
       "<Figure size 432x288 with 1 Axes>"
      ]
     },
     "metadata": {},
     "output_type": "display_data"
    },
    {
     "data": {
      "image/png": "[encoded data removed]",
      "text/plain": [
       "<Figure size 432x288 with 1 Axes>"
      ]
     },
     "metadata": {},
     "output_type": "display_data"
    },
    {
     "data": {
      "image/png": "[encoded data removed]",
      "text/plain": [
       "<Figure size 432x288 with 1 Axes>"
      ]
     },
     "metadata": {},
     "output_type": "display_data"
    },
    {
     "data": {
      "image/png": "[encoded data removed]",
      "text/plain": [
       "<Figure size 432x288 with 1 Axes>"
      ]
     },
     "metadata": {},
     "output_type": "display_data"
    },
    {
     "data": {
      "image/png": "[encoded data removed]",
      "text/plain": [
       "<Figure size 432x288 with 1 Axes>"
      ]
     },
     "metadata": {},
     "output_type": "display_data"
    },
    {
     "data": {
      "image/png": "[encoded data removed]",
      "text/plain": [
       "<Figure size 432x288 with 1 Axes>"
      ]
     },
     "metadata": {},
     "output_type": "display_data"
    },
    {
     "data": {
      "image/png": "[encoded data removed]",
      "text/plain": [
       "<Figure size 432x288 with 1 Axes>"
      ]
     },
     "metadata": {},
     "output_type": "display_data"
    }
   ],
   "source": [
    "selected_columns = ['AGE', 'Urea', 'Cr', 'HbA1c', 'Chol', 'TG', 'HDL', 'LDL', 'VLDL', 'BMI']\n",
    "\n",
    "# Set the color palette\n",
    "sns.set_palette(\"husl\")  # You can choose from various color palettes\n",
    "\n",
    "# Create a unique color for each histogram\n",
    "colors = sns.color_palette(\"husl\", len(selected_columns))\n",
    "\n",
    "# Create separate histograms for each selected column with a different color\n",
    "for i, column in enumerate(selected_columns):\n",
    "    plt.figure(figsize=(6, 4))  # Set the size of each individual plot\n",
    "    sns.histplot(df[column], bins=10, color=colors[i])\n",
    "    plt.title(f'Histogram of {column}')\n",
    "    plt.xlabel(column)\n",
    "    plt.ylabel('Count')\n",
    "    plt.show()"
   ]
  },
  {
   "cell_type": "code",
   "execution_count": 15,
   "id": "3c1d942c",
   "metadata": {},
   "outputs": [
    {
     "data": {
      "image/png": "[encoded data removed]",
      "text/plain": [
       "<Figure size 864x576 with 1 Axes>"
      ]
     },
     "metadata": {},
     "output_type": "display_data"
    }
   ],
   "source": [
    "from mpl_toolkits.mplot3d import Axes3D\n",
    "\n",
    "# Assuming you have a DataFrame 'df'\n",
    "selected_columns = ['AGE', 'Urea', 'Cr', 'HbA1c', 'Chol', 'TG', 'HDL', 'LDL', 'VLDL', 'BMI']\n",
    "\n",
    "# Create a 3D figure\n",
    "fig = plt.figure(figsize=(12, 8))\n",
    "ax = fig.add_subplot(111, projection='3d')\n",
    "\n",
    "# Define different colors for each bar\n",
    "colors = ['b', 'g', 'r', 'c', 'm', 'y', 'k', 'orange', 'purple', 'pink']\n",
    "\n",
    "# Create a 3D bar chart for each selected column with a different color\n",
    "for i, column in enumerate(selected_columns):\n",
    "    x = range(len(df))\n",
    "    y = df[column]\n",
    "    z = [i] * len(df)\n",
    "    ax.bar(x, y, z, zdir='y', color=colors[i], alpha=0.8, label=column)\n",
    "\n",
    "# Set axis labels and legend\n",
    "ax.set_xlabel('X-axis')\n",
    "ax.set_ylabel('Y-axis')\n",
    "ax.set_zlabel('Z-axis')\n",
    "ax.legend()\n",
    "\n",
    "# Show the 3D bar chart\n",
    "plt.show()"
   ]
  },
  {
   "cell_type": "code",
   "execution_count": null,
   "id": "42a5d967",
   "metadata": {},
   "outputs": [],
   "source": [
    "# THere is one lower case 'f' in the data which should be uppercase\n",
    "# Update the gender column\n",
    "df['Gender'] = df['Gender'].replace('f', 'F')"
   ]
  },
  {
   "cell_type": "code",
   "execution_count": null,
   "id": "0383925a",
   "metadata": {},
   "outputs": [],
   "source": [
    "# Domain knowledge tells us that \"pre-diabetes is not considered to be a relevant status in Ireland.\n",
    "# C0nvert class P to N\n",
    "df['CLASS'] = df['CLASS'].replace('P', 'N')"
   ]
  },
  {
   "cell_type": "code",
   "execution_count": null,
   "id": "54af3d55",
   "metadata": {},
   "outputs": [],
   "source": [
    "for column in categorical_columns:\n",
    "    # Count the occurrences of each category in the column\n",
    "    category_counts = df[column].value_counts()\n",
    "    \n",
    "    plt.bar(category_counts.index, category_counts.values)\n",
    "    plt.xlabel(column)\n",
    "    plt.ylabel('Count')\n",
    "    plt.title(f'Distribution of {column}')\n",
    "    plt.show()"
   ]
  },
  {
   "cell_type": "code",
   "execution_count": null,
   "id": "6be47797",
   "metadata": {},
   "outputs": [],
   "source": [
    "# Why are there two \"Y\" and two \"N\" entries?\n",
    "df[column] = df[column].str.strip()"
   ]
  },
  {
   "cell_type": "code",
   "execution_count": null,
   "id": "3574857b",
   "metadata": {},
   "outputs": [],
   "source": [
    "for column in categorical_columns:\n",
    "    # Count the occurrences of each category in the column\n",
    "    category_counts = df[column].value_counts()\n",
    "    \n",
    "    plt.bar(category_counts.index, category_counts.values)\n",
    "    plt.xlabel(column)\n",
    "    plt.ylabel('Count')\n",
    "    plt.title(f'Distribution of {column}')\n",
    "    plt.show()"
   ]
  },
  {
   "cell_type": "code",
   "execution_count": null,
   "id": "9ed32347",
   "metadata": {
    "scrolled": true
   },
   "outputs": [],
   "source": [
    "# Scatter plot for numbers\n",
    "from pandas.plotting import scatter_matrix\n",
    "\n",
    "numerical_values =['Urea','Cr','HbA1c','Chol','TG','HDL','LDL','VLDL','BMI']\n",
    "\n",
    "\n",
    "# Plot scatter matrix for specified columns\n",
    "scatter_matrix(df[numerical_values], figsize=(20, 20))\n",
    "\n"
   ]
  },
  {
   "cell_type": "markdown",
   "id": "05de9207",
   "metadata": {},
   "source": [
    "# Defining the problem statement:"
   ]
  },
  {
   "cell_type": "markdown",
   "id": "a0979783",
   "metadata": {},
   "source": [
    "Can we create a predictive model which can tell if a person will develop diabetes based on potential risk factors such as obesity, high cholesterol and high triglycerides\n",
    "\n",
    "Target Variable: CLASS\n",
    "\n",
    "Predictors: age, gender, BMI, Chol, TG etc.\n",
    "\n",
    "CLASS = N No diabetes\n",
    "CLASS = Y Diabetes\n",
    "\n",
    "Need to look at distribution of target variable\n"
   ]
  },
  {
   "cell_type": "code",
   "execution_count": null,
   "id": "5e40a69f",
   "metadata": {},
   "outputs": [],
   "source": [
    "# Creating Bar chart as the Target variable is Categorical\n",
    "GroupedData = df.groupby('CLASS').size()\n",
    "GroupedData.plot(kind='bar', figsize=(4,3), title='Diabetic Vs Not Diabetic');"
   ]
  },
  {
   "cell_type": "markdown",
   "id": "9b4a4035",
   "metadata": {},
   "source": [
    "## The Data is skewed\n",
    "The features need to be scaled so that they have similar ranges. There are not enough rows for the ML algorithms to learn. Before we apply ML we will have to normalise or standardise the data This can be done using techniques such as Min-Max scaling or Standard scaling. Min-Max scaling scales the data to a fixed range, typically between 0 and 1, while Standard scaling scales the data to have a mean of 0 and a standard deviation of 1.This did not work in Semester 1.\n",
    "Need to make all values numbers first."
   ]
  },
  {
   "cell_type": "markdown",
   "id": "804ab8c7",
   "metadata": {},
   "source": [
    "Issues found with Semester 1 work\n",
    "\n",
    "Data Splitting vs. Encoding Order:\n",
    "We split the data into training and testing sets but then used one-hot encode on the whole df. This order was incorrect.\n",
    "Treatment of the Gender column:\n",
    "We used onehot encoder to code the gender column but later in the code we also used pd.getdummies to do the same thing again. \n",
    "StandardScaler\n",
    "We ran scaler = StandardScaler() twice but only used it once.\n",
    "\n",
    "This is what we should have done\n",
    "    Split Data First, then encode the Training Data using either OneHotEncoder or pd.get_dummies(); then use the Same Encoder for the Test Data, then finally scale the Continuous Columns.\n",
    "\n",
    "Also we encoded CLASS but that is out predictor and I don't think we should have. So I will drop that."
   ]
  },
  {
   "cell_type": "code",
   "execution_count": null,
   "id": "cf77088e",
   "metadata": {},
   "outputs": [],
   "source": [
    "# Split into test and train data (80:20)\n",
    "df_train, df_test = train_test_split(df,test_size=0.2)"
   ]
  },
  {
   "cell_type": "code",
   "execution_count": null,
   "id": "d6665000",
   "metadata": {},
   "outputs": [],
   "source": [
    "df_train, df_test = train_test_split(df, test_size=0.2)\n",
    "print(\"Train missing values:\", df_train.isnull().sum())\n",
    "print(\"Test missing values:\", df_test.isnull().sum())"
   ]
  },
  {
   "cell_type": "code",
   "execution_count": null,
   "id": "36f9485c",
   "metadata": {},
   "outputs": [],
   "source": [
    "# Encode TRAINING & TEST data seperately\n",
    "ohe = OneHotEncoder(sparse_output=False)\n",
    "df_train_encoded = ohe.fit_transform(df_train[['Gender']])\n",
    "df_test_encoded = ohe.transform(df_test[['Gender']])"
   ]
  },
  {
   "cell_type": "code",
   "execution_count": null,
   "id": "04092cd2",
   "metadata": {},
   "outputs": [],
   "source": [
    "# After encoding:\n",
    "df_train_encoded = pd.DataFrame(df_train_encoded, columns=ohe.get_feature_names_out(['Gender']))\n",
    "df_test_encoded = pd.DataFrame(df_test_encoded, columns=ohe.get_feature_names_out(['Gender']))\n",
    "\n",
    "# Check for missing values in the DataFrames\n",
    "print(\"Train encoded missing values:\", df_train_encoded.isnull().sum())\n",
    "print(\"Test encoded missing values:\", df_test_encoded.isnull().sum())"
   ]
  },
  {
   "cell_type": "code",
   "execution_count": null,
   "id": "07242508",
   "metadata": {},
   "outputs": [],
   "source": [
    "# Convert 'Gender' and 'CLASS' columns to numeric binary values\n",
    "df = pd.get_dummies(df, columns=['Gender', 'CLASS'])"
   ]
  },
  {
   "cell_type": "code",
   "execution_count": null,
   "id": "e18bd217",
   "metadata": {},
   "outputs": [],
   "source": [
    "df.head()"
   ]
  },
  {
   "cell_type": "code",
   "execution_count": null,
   "id": "c1304222",
   "metadata": {},
   "outputs": [],
   "source": [
    "df_train = df_train.reset_index(drop=True)\n",
    "df_test = df_test.reset_index(drop=True)"
   ]
  },
  {
   "cell_type": "code",
   "execution_count": null,
   "id": "1867e559",
   "metadata": {},
   "outputs": [],
   "source": [
    "# Concatenate with the original train/test DataFrames (drop original 'Gender' and columns)\n",
    "#df_train = pd.concat([df_train.drop(['Gender'], axis=1), df_train_encoded], axis=1)\n",
    "#df_test = pd.concat([df_test.drop(['Gender'], axis=1), df_test_encoded], axis=1)\n"
   ]
  },
  {
   "cell_type": "code",
   "execution_count": null,
   "id": "19c613a6",
   "metadata": {},
   "outputs": [],
   "source": [
    "print(\"Train combined missing values:\", df_train.isnull().sum())\n",
    "print(\"Test combined missing values:\", df_test.isnull().sum())"
   ]
  },
  {
   "cell_type": "code",
   "execution_count": null,
   "id": "2823ddc3",
   "metadata": {},
   "outputs": [],
   "source": [
    "# Now, scale continuous columns \n",
    "scaler = StandardScaler()\n",
    "continuous_cols = ['AGE', 'Urea', 'Cr', 'HbA1c', 'Chol', 'TG', 'HDL', 'LDL', 'VLDL', 'BMI']\n",
    "df_train[continuous_cols] = scaler.fit_transform(df_train[continuous_cols])\n",
    "df_test[continuous_cols] = scaler.transform(df_test[continuous_cols])"
   ]
  },
  {
   "cell_type": "code",
   "execution_count": null,
   "id": "e6447d83",
   "metadata": {},
   "outputs": [],
   "source": [
    "print(\"Train scaled missing values:\", df_train.isnull().sum())\n",
    "print(\"Test scaled missing values:\", df_test.isnull().sum())"
   ]
  },
  {
   "cell_type": "markdown",
   "id": "40e46b4e",
   "metadata": {},
   "source": [
    " We did not use eithr PCA or LDA in Semester 1. It is a small dataset so it probably does not need this but let's try.\n",
    " \n",
    "We need to fit the LDA model only on the training data so no test data is used and then transform both after it's been fitted. "
   ]
  },
  {
   "cell_type": "code",
   "execution_count": null,
   "id": "eddcf73f",
   "metadata": {},
   "outputs": [],
   "source": [
    "# Prepare the features (X) and target (y) for both training and testing sets\n",
    "X_train = df_train.drop('CLASS_Y', 'CLASS_N', axis=1)\n",
    "y_train = df_train['CLASS_Y', 'CLASS_N']\n",
    "X_test = df_test.drop('CLASS_Y', 'CLASS_N', axis=1)\n",
    "y_test = df_test['CLASS_Y', 'CLASS_N']\n",
    "\n",
    "# Initialize LDA\n",
    "lda = LinearDiscriminantAnalysis(n_components=1) \n",
    "\n",
    "# Fit on training data and transform\n",
    "X_train_lda = lda.fit_transform(X_train, y_train)\n",
    "\n",
    "# Transform test data\n",
    "X_test_lda = lda.transform(X_test)"
   ]
  },
  {
   "cell_type": "code",
   "execution_count": null,
   "id": "136a8d0e",
   "metadata": {},
   "outputs": [],
   "source": [
    "print(df_train.isnull().sum())\n",
    "print(df_test.isnull().sum())"
   ]
  },
  {
   "cell_type": "code",
   "execution_count": null,
   "id": "e4d05356",
   "metadata": {},
   "outputs": [],
   "source": [
    "df.head() "
   ]
  },
  {
   "cell_type": "code",
   "execution_count": null,
   "id": "1724ea76",
   "metadata": {},
   "outputs": [],
   "source": [
    "df.columns"
   ]
  },
  {
   "cell_type": "code",
   "execution_count": null,
   "id": "2cdaa7c3",
   "metadata": {},
   "outputs": [],
   "source": [
    "#### description of columns\n",
    "df.Urea.describe()"
   ]
  },
  {
   "cell_type": "code",
   "execution_count": null,
   "id": "951f4928",
   "metadata": {},
   "outputs": [],
   "source": [
    "df.AGE.describe()"
   ]
  },
  {
   "cell_type": "code",
   "execution_count": null,
   "id": "6e6fe122",
   "metadata": {},
   "outputs": [],
   "source": [
    "df.Cr.describe()"
   ]
  },
  {
   "cell_type": "code",
   "execution_count": null,
   "id": "f50d482f",
   "metadata": {},
   "outputs": [],
   "source": [
    "df.HbA1c.describe()"
   ]
  },
  {
   "cell_type": "code",
   "execution_count": null,
   "id": "ce24e391",
   "metadata": {},
   "outputs": [],
   "source": [
    "df.Chol.describe()"
   ]
  },
  {
   "cell_type": "code",
   "execution_count": null,
   "id": "db820cf6",
   "metadata": {},
   "outputs": [],
   "source": [
    "df.TG.describe()"
   ]
  },
  {
   "cell_type": "code",
   "execution_count": null,
   "id": "9d653416",
   "metadata": {},
   "outputs": [],
   "source": [
    "df.HDL.describe()"
   ]
  },
  {
   "cell_type": "code",
   "execution_count": null,
   "id": "fe9a2ffd",
   "metadata": {},
   "outputs": [],
   "source": [
    "df.VLDL.describe()"
   ]
  },
  {
   "cell_type": "code",
   "execution_count": null,
   "id": "61cfa144",
   "metadata": {},
   "outputs": [],
   "source": [
    "df.BMI.describe()"
   ]
  },
  {
   "cell_type": "markdown",
   "id": "671a99ce",
   "metadata": {},
   "source": [
    "### Logistic Regression"
   ]
  },
  {
   "cell_type": "code",
   "execution_count": null,
   "id": "39181daa",
   "metadata": {},
   "outputs": [],
   "source": [
    "df.columns"
   ]
  },
  {
   "cell_type": "code",
   "execution_count": null,
   "id": "ff59604b",
   "metadata": {},
   "outputs": [],
   "source": []
  },
  {
   "cell_type": "code",
   "execution_count": null,
   "id": "a2781d12",
   "metadata": {},
   "outputs": [],
   "source": [
    "df.head()"
   ]
  },
  {
   "cell_type": "code",
   "execution_count": null,
   "id": "f5bfa431",
   "metadata": {},
   "outputs": [],
   "source": []
  },
  {
   "cell_type": "code",
   "execution_count": null,
   "id": "3d3e281c",
   "metadata": {},
   "outputs": [],
   "source": [
    "# Split the data into features and target\n",
    "X = df.drop('CLASS', axis=1)  # Features\n",
    "y = df['CLASS']  # Target\n",
    "\n",
    "# Split the data into training and testing sets (e.g., 80% train, 20% test)\n",
    "X_train, X_test, y_train, y_test = train_test_split(X, y, test_size=0.2, random_state=42)\n",
    "\n",
    "# Preprocess the data (scaling the features)\n",
    "scaler = StandardScaler()\n",
    "X_train = scaler.fit_transform(X_train)\n",
    "X_test = scaler.transform(X_test)\n",
    "\n",
    "# Create and train the logistic regression model\n",
    "model = LogisticRegression()\n",
    "model.fit(X_train, y_train)\n",
    "\n",
    "# Make predictions on the test data\n",
    "y_pred = model.predict(X_test)\n",
    "\n",
    "# Evaluate the model\n",
    "accuracy = accuracy_score(y_test, y_pred)\n",
    "conf_matrix = confusion_matrix(y_test, y_pred)\n",
    "class_report = classification_report(y_test, y_pred)\n",
    "\n",
    "# Print the evaluation metrics\n",
    "print(\"Accuracy:\", accuracy)\n",
    "print(\"Confusion Matrix:\\n\", conf_matrix)\n",
    "print(\"Classification Report:\\n\", class_report)"
   ]
  },
  {
   "cell_type": "code",
   "execution_count": null,
   "id": "6ef85893",
   "metadata": {},
   "outputs": [],
   "source": []
  },
  {
   "cell_type": "markdown",
   "id": "fbf3b079",
   "metadata": {
    "slideshow": {
     "slide_type": "subslide"
    }
   },
   "source": [
    "### Decision Tree MLM"
   ]
  },
  {
   "cell_type": "code",
   "execution_count": null,
   "id": "d7023ad6",
   "metadata": {},
   "outputs": [],
   "source": [
    "# Split the dataset into input features and output labels\n",
    "X = df.iloc[:, :-1].values\n",
    "y = df.iloc[:, -1].values\n",
    "\n",
    "# Split the dataset into training and testing sets\n",
    "X_train, X_test, y_train, y_test = train_test_split(X, y, test_size=0.3, random_state=42)\n",
    "\n",
    "# Create a Decision Tree classifier with default hyperparameters\n",
    "dtc = DecisionTreeClassifier(random_state=42)\n",
    "\n",
    "# Train the Decision Tree classifier\n",
    "dtc.fit(X_train, y_train)\n",
    "\n",
    "# Predict the output values on the test data\n",
    "y_pred = dtc.predict(X_test)\n",
    "\n",
    "# Evaluate the performance of the Random Forest classifier\n",
    "accuracy = accuracy_score(y_test, y_pred)\n",
    "print(\"Accuracy:\", accuracy)"
   ]
  },
  {
   "cell_type": "markdown",
   "id": "5ac622fd",
   "metadata": {},
   "source": [
    "### Random forest MLM"
   ]
  },
  {
   "cell_type": "code",
   "execution_count": null,
   "id": "5339427b",
   "metadata": {},
   "outputs": [],
   "source": [
    "# Split the dataset into input features and output labels\n",
    "X = df.iloc[:, :-1].values\n",
    "y = df.iloc[:, -1].values\n",
    "\n",
    "# Split the dataset into training and testing sets\n",
    "X_train, X_test, y_train, y_test = train_test_split(X, y, test_size=0.3, random_state=42)\n",
    "\n",
    "# Create a Random Forest classifier with 100 trees\n",
    "rfc = RandomForestClassifier(n_estimators=100, random_state=42)\n",
    "\n",
    "# Train the Random Forest classifier\n",
    "rfc.fit(X_train, y_train)\n",
    "\n",
    "# Predict the output values on the test data\n",
    "y_pred = dtc.predict(X_test)\n",
    "\n",
    "# Evaluate the performance of the Random Forest classifier\n",
    "accuracy = accuracy_score(y_test, y_pred)\n",
    "print(\"Accuracy:\", accuracy)"
   ]
  },
  {
   "cell_type": "markdown",
   "id": "bf690b31",
   "metadata": {},
   "source": [
    "### Evaluation"
   ]
  },
  {
   "cell_type": "code",
   "execution_count": null,
   "id": "a9690f5a",
   "metadata": {},
   "outputs": [],
   "source": [
    "Confusion Matrix"
   ]
  }
 ],
 "metadata": {
  "kernelspec": {
   "display_name": "Python 3 (ipykernel)",
   "language": "python",
   "name": "python3"
  },
  "language_info": {
   "codemirror_mode": {
    "name": "ipython",
    "version": 3
   },
   "file_extension": ".py",
   "mimetype": "text/x-python",
   "name": "python",
   "nbconvert_exporter": "python",
   "pygments_lexer": "ipython3",
   "version": "3.9.7"
  }
 },
 "nbformat": 4,
 "nbformat_minor": 5
}
